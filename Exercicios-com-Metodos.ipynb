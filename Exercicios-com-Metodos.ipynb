{
 "cells": [
  {
   "cell_type": "markdown",
   "metadata": {},
   "source": [
    "## Exercícios \n",
    "\n",
    "Nesta lista de exercícios você vai continuar o trabalho que fizemos no Estudo de Caso neste capítulo. O código para carregar o dataset já está disponível para você. Leia cada exercício atentamente e coloque em prática suas habilidades analíticas. Todas as questões podem ser resolvidas com tudo já estudado até aqui no curso e consulte a documentação Python se necessário!"
   ]
  },
  {
   "cell_type": "code",
   "execution_count": 69,
   "metadata": {},
   "outputs": [],
   "source": [
    "import numpy as np\n",
    "import pandas as pd\n",
    "import matplotlib.pyplot as plt\n",
    "%matplotlib inline"
   ]
  },
  {
   "cell_type": "code",
   "execution_count": 70,
   "metadata": {},
   "outputs": [],
   "source": [
    "df = pd.read_csv('data/dataframe_saved_v2.csv', parse_dates = ['Data'], usecols = list(range(0,6)))"
   ]
  },
  {
   "cell_type": "code",
   "execution_count": 71,
   "metadata": {},
   "outputs": [
    {
     "data": {
      "text/plain": [
       "Data          datetime64[ns]\n",
       "Distancia            float64\n",
       "Tempo                 object\n",
       "Segundos             float64\n",
       "Minutos              float64\n",
       "Min_Por_Km           float64\n",
       "dtype: object"
      ]
     },
     "execution_count": 71,
     "metadata": {},
     "output_type": "execute_result"
    }
   ],
   "source": [
    "df.dtypes"
   ]
  },
  {
   "cell_type": "markdown",
   "metadata": {},
   "source": [
    "Coluna Data do tipo datetime, parse_dates = ['Data']"
   ]
  },
  {
   "cell_type": "code",
   "execution_count": 72,
   "metadata": {},
   "outputs": [
    {
     "data": {
      "text/html": [
       "<div>\n",
       "<style scoped>\n",
       "    .dataframe tbody tr th:only-of-type {\n",
       "        vertical-align: middle;\n",
       "    }\n",
       "\n",
       "    .dataframe tbody tr th {\n",
       "        vertical-align: top;\n",
       "    }\n",
       "\n",
       "    .dataframe thead th {\n",
       "        text-align: right;\n",
       "    }\n",
       "</style>\n",
       "<table border=\"1\" class=\"dataframe\">\n",
       "  <thead>\n",
       "    <tr style=\"text-align: right;\">\n",
       "      <th></th>\n",
       "      <th>Data</th>\n",
       "      <th>Distancia</th>\n",
       "      <th>Tempo</th>\n",
       "      <th>Segundos</th>\n",
       "      <th>Minutos</th>\n",
       "      <th>Min_Por_Km</th>\n",
       "    </tr>\n",
       "  </thead>\n",
       "  <tbody>\n",
       "    <tr>\n",
       "      <th>0</th>\n",
       "      <td>2015-08-02</td>\n",
       "      <td>1.70</td>\n",
       "      <td>NaN</td>\n",
       "      <td>NaN</td>\n",
       "      <td>NaN</td>\n",
       "      <td>NaN</td>\n",
       "    </tr>\n",
       "    <tr>\n",
       "      <th>1</th>\n",
       "      <td>2015-08-03</td>\n",
       "      <td>1.40</td>\n",
       "      <td>NaN</td>\n",
       "      <td>NaN</td>\n",
       "      <td>NaN</td>\n",
       "      <td>NaN</td>\n",
       "    </tr>\n",
       "    <tr>\n",
       "      <th>2</th>\n",
       "      <td>2015-08-04</td>\n",
       "      <td>2.10</td>\n",
       "      <td>NaN</td>\n",
       "      <td>NaN</td>\n",
       "      <td>NaN</td>\n",
       "      <td>NaN</td>\n",
       "    </tr>\n",
       "    <tr>\n",
       "      <th>3</th>\n",
       "      <td>2015-08-06</td>\n",
       "      <td>2.38</td>\n",
       "      <td>NaN</td>\n",
       "      <td>NaN</td>\n",
       "      <td>NaN</td>\n",
       "      <td>NaN</td>\n",
       "    </tr>\n",
       "    <tr>\n",
       "      <th>4</th>\n",
       "      <td>2015-08-07</td>\n",
       "      <td>2.30</td>\n",
       "      <td>NaN</td>\n",
       "      <td>NaN</td>\n",
       "      <td>NaN</td>\n",
       "      <td>NaN</td>\n",
       "    </tr>\n",
       "  </tbody>\n",
       "</table>\n",
       "</div>"
      ],
      "text/plain": [
       "        Data  Distancia Tempo  Segundos  Minutos  Min_Por_Km\n",
       "0 2015-08-02       1.70   NaN       NaN      NaN         NaN\n",
       "1 2015-08-03       1.40   NaN       NaN      NaN         NaN\n",
       "2 2015-08-04       2.10   NaN       NaN      NaN         NaN\n",
       "3 2015-08-06       2.38   NaN       NaN      NaN         NaN\n",
       "4 2015-08-07       2.30   NaN       NaN      NaN         NaN"
      ]
     },
     "execution_count": 72,
     "metadata": {},
     "output_type": "execute_result"
    }
   ],
   "source": [
    "df.sort_index(inplace = True)\n",
    "df.head()"
   ]
  },
  {
   "cell_type": "code",
   "execution_count": 73,
   "metadata": {},
   "outputs": [
    {
     "data": {
      "text/plain": [
       "260.71666666666664"
      ]
     },
     "execution_count": 73,
     "metadata": {},
     "output_type": "execute_result"
    }
   ],
   "source": [
    "# Exercício 1 - Qual o valor máximo da coluna Minutos?\n",
    "df[\"Minutos\"].max()\n",
    "df.Minutos.max()"
   ]
  },
  {
   "cell_type": "code",
   "execution_count": 74,
   "metadata": {},
   "outputs": [
    {
     "data": {
      "text/plain": [
       "2.01"
      ]
     },
     "execution_count": 74,
     "metadata": {},
     "output_type": "execute_result"
    }
   ],
   "source": [
    "# Exercício 2 - Qual o valor mínimo de distância acima de 2.0?\n",
    "df.Distancia[df.Distancia > 2.0].min()\n",
    "              # Filtrar esta coluna aonde o valor dela for maior que 2.0"
   ]
  },
  {
   "cell_type": "code",
   "execution_count": 75,
   "metadata": {},
   "outputs": [
    {
     "data": {
      "text/plain": [
       "Text(0, 0.5, 'Distancia')"
      ]
     },
     "execution_count": 75,
     "metadata": {},
     "output_type": "execute_result"
    },
    {
     "data": {
      "image/png": "[encoded data removed]",
      "text/plain": [
       "<Figure size 432x288 with 1 Axes>"
      ]
     },
     "metadata": {
      "needs_background": "light"
     },
     "output_type": "display_data"
    }
   ],
   "source": [
    "# Exercício 3 - Crie um plot com a frequência acumulada da coluna Distancia.\n",
    "# Frequência acumulada: acumular item a item\n",
    "df[\"Distancia\"].cumsum().plot()  # Soma acumulada de Distancia\n",
    "plt.xlabel(\"Dia\")\n",
    "plt.ylabel(\"Distancia\")"
   ]
  },
  {
   "cell_type": "code",
   "execution_count": 76,
   "metadata": {},
   "outputs": [
    {
     "data": {
      "text/plain": [
       "'Sunday'"
      ]
     },
     "execution_count": 76,
     "metadata": {},
     "output_type": "execute_result"
    }
   ],
   "source": [
    "# Exercício 4 - Qual o dia da semana no índice de posição zero?\n",
    "df.Data[0].strftime(\"%A\")\n",
    "# Extair dia da semana .strftime(\"%A\") - placeholder extrai dia da semana\n"
   ]
  },
  {
   "cell_type": "code",
   "execution_count": 77,
   "metadata": {},
   "outputs": [
    {
     "data": {
      "text/plain": [
       "0      Sunday\n",
       "1      Monday\n",
       "2     Tuesday\n",
       "3    Thursday\n",
       "4      Friday\n",
       "Name: Data, dtype: object"
      ]
     },
     "execution_count": 77,
     "metadata": {},
     "output_type": "execute_result"
    }
   ],
   "source": [
    "# Exercício 5 - Qual o dia da semana nos índices nas 5 primeiras posições?\n",
    "# Preciso criar um tipo de mapeamento, executar o mesmo comando em várias linhas\n",
    "\n",
    "df.Data.map(lambda x: x.strftime(\"%A\")).head() \n",
    "\n",
    "# Para cada x, dentro desse valor x.strfttime, retorne x"
   ]
  },
  {
   "cell_type": "code",
   "execution_count": 78,
   "metadata": {},
   "outputs": [
    {
     "data": {
      "text/html": [
       "<div>\n",
       "<style scoped>\n",
       "    .dataframe tbody tr th:only-of-type {\n",
       "        vertical-align: middle;\n",
       "    }\n",
       "\n",
       "    .dataframe tbody tr th {\n",
       "        vertical-align: top;\n",
       "    }\n",
       "\n",
       "    .dataframe thead th {\n",
       "        text-align: right;\n",
       "    }\n",
       "</style>\n",
       "<table border=\"1\" class=\"dataframe\">\n",
       "  <thead>\n",
       "    <tr style=\"text-align: right;\">\n",
       "      <th></th>\n",
       "      <th>Data</th>\n",
       "      <th>Distancia</th>\n",
       "      <th>Tempo</th>\n",
       "      <th>Segundos</th>\n",
       "      <th>Minutos</th>\n",
       "      <th>Min_Por_Km</th>\n",
       "      <th>Dia_semana</th>\n",
       "    </tr>\n",
       "  </thead>\n",
       "  <tbody>\n",
       "    <tr>\n",
       "      <th>0</th>\n",
       "      <td>2015-08-02</td>\n",
       "      <td>1.70</td>\n",
       "      <td>NaN</td>\n",
       "      <td>NaN</td>\n",
       "      <td>NaN</td>\n",
       "      <td>NaN</td>\n",
       "      <td>Sunday</td>\n",
       "    </tr>\n",
       "    <tr>\n",
       "      <th>1</th>\n",
       "      <td>2015-08-03</td>\n",
       "      <td>1.40</td>\n",
       "      <td>NaN</td>\n",
       "      <td>NaN</td>\n",
       "      <td>NaN</td>\n",
       "      <td>NaN</td>\n",
       "      <td>Monday</td>\n",
       "    </tr>\n",
       "    <tr>\n",
       "      <th>2</th>\n",
       "      <td>2015-08-04</td>\n",
       "      <td>2.10</td>\n",
       "      <td>NaN</td>\n",
       "      <td>NaN</td>\n",
       "      <td>NaN</td>\n",
       "      <td>NaN</td>\n",
       "      <td>Tuesday</td>\n",
       "    </tr>\n",
       "    <tr>\n",
       "      <th>3</th>\n",
       "      <td>2015-08-06</td>\n",
       "      <td>2.38</td>\n",
       "      <td>NaN</td>\n",
       "      <td>NaN</td>\n",
       "      <td>NaN</td>\n",
       "      <td>NaN</td>\n",
       "      <td>Thursday</td>\n",
       "    </tr>\n",
       "    <tr>\n",
       "      <th>4</th>\n",
       "      <td>2015-08-07</td>\n",
       "      <td>2.30</td>\n",
       "      <td>NaN</td>\n",
       "      <td>NaN</td>\n",
       "      <td>NaN</td>\n",
       "      <td>NaN</td>\n",
       "      <td>Friday</td>\n",
       "    </tr>\n",
       "    <tr>\n",
       "      <th>5</th>\n",
       "      <td>2015-08-08</td>\n",
       "      <td>3.40</td>\n",
       "      <td>NaN</td>\n",
       "      <td>NaN</td>\n",
       "      <td>NaN</td>\n",
       "      <td>NaN</td>\n",
       "      <td>Saturday</td>\n",
       "    </tr>\n",
       "    <tr>\n",
       "      <th>6</th>\n",
       "      <td>2015-08-09</td>\n",
       "      <td>2.50</td>\n",
       "      <td>NaN</td>\n",
       "      <td>NaN</td>\n",
       "      <td>NaN</td>\n",
       "      <td>NaN</td>\n",
       "      <td>Sunday</td>\n",
       "    </tr>\n",
       "    <tr>\n",
       "      <th>7</th>\n",
       "      <td>2015-08-10</td>\n",
       "      <td>3.36</td>\n",
       "      <td>0:28:37</td>\n",
       "      <td>1717.0</td>\n",
       "      <td>28.616667</td>\n",
       "      <td>8.516865</td>\n",
       "      <td>Monday</td>\n",
       "    </tr>\n",
       "    <tr>\n",
       "      <th>8</th>\n",
       "      <td>2015-08-11</td>\n",
       "      <td>1.67</td>\n",
       "      <td>0:13:07</td>\n",
       "      <td>787.0</td>\n",
       "      <td>13.116667</td>\n",
       "      <td>7.854291</td>\n",
       "      <td>Tuesday</td>\n",
       "    </tr>\n",
       "    <tr>\n",
       "      <th>9</th>\n",
       "      <td>2015-08-12</td>\n",
       "      <td>1.42</td>\n",
       "      <td>0:10:35</td>\n",
       "      <td>635.0</td>\n",
       "      <td>10.583333</td>\n",
       "      <td>7.453052</td>\n",
       "      <td>Wednesday</td>\n",
       "    </tr>\n",
       "  </tbody>\n",
       "</table>\n",
       "</div>"
      ],
      "text/plain": [
       "        Data  Distancia    Tempo  Segundos    Minutos  Min_Por_Km Dia_semana\n",
       "0 2015-08-02       1.70      NaN       NaN        NaN         NaN     Sunday\n",
       "1 2015-08-03       1.40      NaN       NaN        NaN         NaN     Monday\n",
       "2 2015-08-04       2.10      NaN       NaN        NaN         NaN    Tuesday\n",
       "3 2015-08-06       2.38      NaN       NaN        NaN         NaN   Thursday\n",
       "4 2015-08-07       2.30      NaN       NaN        NaN         NaN     Friday\n",
       "5 2015-08-08       3.40      NaN       NaN        NaN         NaN   Saturday\n",
       "6 2015-08-09       2.50      NaN       NaN        NaN         NaN     Sunday\n",
       "7 2015-08-10       3.36  0:28:37    1717.0  28.616667    8.516865     Monday\n",
       "8 2015-08-11       1.67  0:13:07     787.0  13.116667    7.854291    Tuesday\n",
       "9 2015-08-12       1.42  0:10:35     635.0  10.583333    7.453052  Wednesday"
      ]
     },
     "execution_count": 78,
     "metadata": {},
     "output_type": "execute_result"
    }
   ],
   "source": [
    "# Exercício 6 - Extraia todos os dias da semana (em formato texto) e insira em uma nova coluna no dataframe df.\n",
    "df['Dia_semana'] = df.Data.map(lambda x: x.strftime(\"%A\"))\n",
    "df.head(10) #Chamar lambda quando aplicar uma função a todo conjunto de dados"
   ]
  },
  {
   "cell_type": "code",
   "execution_count": 79,
   "metadata": {},
   "outputs": [
    {
     "data": {
      "text/plain": [
       "<matplotlib.axes._subplots.AxesSubplot at 0x2ac287ede48>"
      ]
     },
     "execution_count": 79,
     "metadata": {},
     "output_type": "execute_result"
    },
    {
     "data": {
      "image/png": "[encoded data removed]",
      "text/plain": [
       "<Figure size 432x288 with 1 Axes>"
      ]
     },
     "metadata": {
      "needs_background": "light"
     },
     "output_type": "display_data"
    }
   ],
   "source": [
    "# Exercício 7 - Crie um gráfico de barras com o total da distância percorrida em cada dia da semana.\n",
    "df[df.Distancia > 0].Dia_semana.value_counts().plot(kind =\"bar\")\n",
    "# 1. Pegar DataFrame\n",
    "#  2. FIltrar [df.Distancia > 0]\n",
    "#   3. Pegar contagem de valores\n",
    "#    4. Aplicar plot e passar parâmetro de barra"
   ]
  },
  {
   "cell_type": "code",
   "execution_count": 80,
   "metadata": {},
   "outputs": [
    {
     "data": {
      "text/html": [
       "<div>\n",
       "<style scoped>\n",
       "    .dataframe tbody tr th:only-of-type {\n",
       "        vertical-align: middle;\n",
       "    }\n",
       "\n",
       "    .dataframe tbody tr th {\n",
       "        vertical-align: top;\n",
       "    }\n",
       "\n",
       "    .dataframe thead th {\n",
       "        text-align: right;\n",
       "    }\n",
       "</style>\n",
       "<table border=\"1\" class=\"dataframe\">\n",
       "  <thead>\n",
       "    <tr style=\"text-align: right;\">\n",
       "      <th></th>\n",
       "      <th>Data</th>\n",
       "      <th>Distancia</th>\n",
       "      <th>Segundos</th>\n",
       "      <th>Minutos</th>\n",
       "      <th>Min_Por_Km</th>\n",
       "      <th>Dia_semana</th>\n",
       "    </tr>\n",
       "  </thead>\n",
       "  <tbody>\n",
       "    <tr>\n",
       "      <th>0</th>\n",
       "      <td>2015-08-02</td>\n",
       "      <td>1.70</td>\n",
       "      <td>NaN</td>\n",
       "      <td>NaN</td>\n",
       "      <td>NaN</td>\n",
       "      <td>Sunday</td>\n",
       "    </tr>\n",
       "    <tr>\n",
       "      <th>1</th>\n",
       "      <td>2015-08-03</td>\n",
       "      <td>1.40</td>\n",
       "      <td>NaN</td>\n",
       "      <td>NaN</td>\n",
       "      <td>NaN</td>\n",
       "      <td>Monday</td>\n",
       "    </tr>\n",
       "    <tr>\n",
       "      <th>2</th>\n",
       "      <td>2015-08-04</td>\n",
       "      <td>2.10</td>\n",
       "      <td>NaN</td>\n",
       "      <td>NaN</td>\n",
       "      <td>NaN</td>\n",
       "      <td>Tuesday</td>\n",
       "    </tr>\n",
       "    <tr>\n",
       "      <th>3</th>\n",
       "      <td>2015-08-06</td>\n",
       "      <td>2.38</td>\n",
       "      <td>NaN</td>\n",
       "      <td>NaN</td>\n",
       "      <td>NaN</td>\n",
       "      <td>Thursday</td>\n",
       "    </tr>\n",
       "    <tr>\n",
       "      <th>4</th>\n",
       "      <td>2015-08-07</td>\n",
       "      <td>2.30</td>\n",
       "      <td>NaN</td>\n",
       "      <td>NaN</td>\n",
       "      <td>NaN</td>\n",
       "      <td>Friday</td>\n",
       "    </tr>\n",
       "  </tbody>\n",
       "</table>\n",
       "</div>"
      ],
      "text/plain": [
       "        Data  Distancia  Segundos  Minutos  Min_Por_Km Dia_semana\n",
       "0 2015-08-02       1.70       NaN      NaN         NaN     Sunday\n",
       "1 2015-08-03       1.40       NaN      NaN         NaN     Monday\n",
       "2 2015-08-04       2.10       NaN      NaN         NaN    Tuesday\n",
       "3 2015-08-06       2.38       NaN      NaN         NaN   Thursday\n",
       "4 2015-08-07       2.30       NaN      NaN         NaN     Friday"
      ]
     },
     "execution_count": 80,
     "metadata": {},
     "output_type": "execute_result"
    }
   ],
   "source": [
    "# Exercício 8 - Delete a coluna Tempo do dataframe df.\n",
    "del(df['Tempo'])\n",
    "df.head()"
   ]
  },
  {
   "cell_type": "code",
   "execution_count": 98,
   "metadata": {},
   "outputs": [
    {
     "data": {
      "text/plain": [
       "Dia_semana\n",
       "Friday        8\n",
       "Monday       11\n",
       "Saturday     15\n",
       "Sunday       14\n",
       "Thursday      8\n",
       "Tuesday      14\n",
       "Wednesday    11\n",
       "dtype: int64"
      ]
     },
     "execution_count": 98,
     "metadata": {},
     "output_type": "execute_result"
    }
   ],
   "source": [
    "# Exercício 9 - Qual o total de corridas de taxi por dia da semana?\n",
    "df.Distancia = df.Distancia[df.Distancia > 0] \n",
    "# Chamo a coluna distância e aplico filtro de distância\n",
    "dias = df.groupby(\"Dia_semana\")\n",
    "dias.size() # Traz o tamanho do conjunto de dados"
   ]
  },
  {
   "cell_type": "code",
   "execution_count": 99,
   "metadata": {},
   "outputs": [
    {
     "data": {
      "text/html": [
       "<div>\n",
       "<style scoped>\n",
       "    .dataframe tbody tr th:only-of-type {\n",
       "        vertical-align: middle;\n",
       "    }\n",
       "\n",
       "    .dataframe tbody tr th {\n",
       "        vertical-align: top;\n",
       "    }\n",
       "\n",
       "    .dataframe thead th {\n",
       "        text-align: right;\n",
       "    }\n",
       "</style>\n",
       "<table border=\"1\" class=\"dataframe\">\n",
       "  <thead>\n",
       "    <tr style=\"text-align: right;\">\n",
       "      <th></th>\n",
       "      <th>Distancia</th>\n",
       "      <th>Segundos</th>\n",
       "      <th>Minutos</th>\n",
       "      <th>Min_Por_Km</th>\n",
       "    </tr>\n",
       "    <tr>\n",
       "      <th>Dia_semana</th>\n",
       "      <th></th>\n",
       "      <th></th>\n",
       "      <th></th>\n",
       "      <th></th>\n",
       "    </tr>\n",
       "  </thead>\n",
       "  <tbody>\n",
       "    <tr>\n",
       "      <th>Friday</th>\n",
       "      <td>6.315000</td>\n",
       "      <td>5071.800000</td>\n",
       "      <td>84.530000</td>\n",
       "      <td>8.039543</td>\n",
       "    </tr>\n",
       "    <tr>\n",
       "      <th>Monday</th>\n",
       "      <td>2.422727</td>\n",
       "      <td>1185.750000</td>\n",
       "      <td>19.762500</td>\n",
       "      <td>7.463840</td>\n",
       "    </tr>\n",
       "    <tr>\n",
       "      <th>Saturday</th>\n",
       "      <td>2.786000</td>\n",
       "      <td>1458.500000</td>\n",
       "      <td>24.308333</td>\n",
       "      <td>7.747657</td>\n",
       "    </tr>\n",
       "    <tr>\n",
       "      <th>Sunday</th>\n",
       "      <td>3.246429</td>\n",
       "      <td>2802.500000</td>\n",
       "      <td>46.708333</td>\n",
       "      <td>8.184961</td>\n",
       "    </tr>\n",
       "    <tr>\n",
       "      <th>Thursday</th>\n",
       "      <td>3.315000</td>\n",
       "      <td>1681.285714</td>\n",
       "      <td>28.021429</td>\n",
       "      <td>7.829348</td>\n",
       "    </tr>\n",
       "    <tr>\n",
       "      <th>Tuesday</th>\n",
       "      <td>2.607143</td>\n",
       "      <td>1334.600000</td>\n",
       "      <td>22.243333</td>\n",
       "      <td>7.463291</td>\n",
       "    </tr>\n",
       "    <tr>\n",
       "      <th>Wednesday</th>\n",
       "      <td>2.428182</td>\n",
       "      <td>1306.250000</td>\n",
       "      <td>21.770833</td>\n",
       "      <td>7.659706</td>\n",
       "    </tr>\n",
       "  </tbody>\n",
       "</table>\n",
       "</div>"
      ],
      "text/plain": [
       "            Distancia     Segundos    Minutos  Min_Por_Km\n",
       "Dia_semana                                               \n",
       "Friday       6.315000  5071.800000  84.530000    8.039543\n",
       "Monday       2.422727  1185.750000  19.762500    7.463840\n",
       "Saturday     2.786000  1458.500000  24.308333    7.747657\n",
       "Sunday       3.246429  2802.500000  46.708333    8.184961\n",
       "Thursday     3.315000  1681.285714  28.021429    7.829348\n",
       "Tuesday      2.607143  1334.600000  22.243333    7.463291\n",
       "Wednesday    2.428182  1306.250000  21.770833    7.659706"
      ]
     },
     "execution_count": 99,
     "metadata": {},
     "output_type": "execute_result"
    }
   ],
   "source": [
    "# Exercício 10 - Qual a média para cada uma das colunas por dia da semana?\n",
    "dias.mean()"
   ]
  }
 ],
 "metadata": {
  "anaconda-cloud": {},
  "kernelspec": {
   "display_name": "Python 3",
   "language": "python",
   "name": "python3"
  },
  "language_info": {
   "codemirror_mode": {
    "name": "ipython",
    "version": 3
   },
   "file_extension": ".py",
   "mimetype": "text/x-python",
   "name": "python",
   "nbconvert_exporter": "python",
   "pygments_lexer": "ipython3",
   "version": "3.7.6"
  }
 },
 "nbformat": 4,
 "nbformat_minor": 1
}
